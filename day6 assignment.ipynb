{
  "nbformat": 4,
  "nbformat_minor": 0,
  "metadata": {
    "colab": {
      "provenance": []
    },
    "kernelspec": {
      "name": "python3",
      "display_name": "Python 3"
    },
    "language_info": {
      "name": "python"
    }
  },
  "cells": [
    {
      "cell_type": "code",
      "execution_count": 1,
      "metadata": {
        "colab": {
          "base_uri": "https://localhost:8080/"
        },
        "id": "7PamwUk05dPo",
        "outputId": "f0df99a4-5651-46d2-ae61-44969aaa2d32"
      },
      "outputs": [
        {
          "output_type": "stream",
          "name": "stdout",
          "text": [
            "[1, 2, 3, 'hi', 'python']\n"
          ]
        }
      ],
      "source": [
        "list1=[1,2,3,\"hi\",\"python\"]\n",
        "mylist=list1.copy()\n",
        "print(mylist)"
      ]
    },
    {
      "cell_type": "code",
      "source": [
        "a = {1, 3, 5, 7, 9}\n",
        "b = {2, 3, 5, 7, 11}\n",
        "print(a.difference(b))"
      ],
      "metadata": {
        "colab": {
          "base_uri": "https://localhost:8080/"
        },
        "id": "5t3ar4rm5p3N",
        "outputId": "59751b21-96c0-4cb7-b225-730c84592f3d"
      },
      "execution_count": 2,
      "outputs": [
        {
          "output_type": "stream",
          "name": "stdout",
          "text": [
            "{1, 9}\n"
          ]
        }
      ]
    },
    {
      "cell_type": "code",
      "source": [
        "x={6,5,4,3,2,1}\n",
        "y={1,3,5,6,9,11}\n",
        "print(y.intersection(x))"
      ],
      "metadata": {
        "colab": {
          "base_uri": "https://localhost:8080/"
        },
        "id": "aUOU_LxQ5tXP",
        "outputId": "fb213bde-337c-4582-f63b-d5d8eb37abd1"
      },
      "execution_count": 3,
      "outputs": [
        {
          "output_type": "stream",
          "name": "stdout",
          "text": [
            "{1, 3, 5, 6}\n"
          ]
        }
      ]
    },
    {
      "cell_type": "code",
      "source": [
        "x={'a','b','c','d','e'}\n",
        "z={'b','c','i','j'}\n",
        "result=x.symmetric_difference(z)\n",
        "print(result)"
      ],
      "metadata": {
        "colab": {
          "base_uri": "https://localhost:8080/"
        },
        "id": "RKXpcCOK5wMo",
        "outputId": "abce86f5-9868-4859-b13e-786c76089319"
      },
      "execution_count": 4,
      "outputs": [
        {
          "output_type": "stream",
          "name": "stdout",
          "text": [
            "{'e', 'a', 'i', 'j', 'd'}\n"
          ]
        }
      ]
    },
    {
      "cell_type": "code",
      "source": [
        "A ={2, 3, 5}\n",
        "B ={1, 3, 5}\n",
        "print('A U B =', A.union(B))"
      ],
      "metadata": {
        "colab": {
          "base_uri": "https://localhost:8080/"
        },
        "id": "5AAhxlx350uv",
        "outputId": "71bd085f-71cf-4441-8022-2d3fb2830608"
      },
      "execution_count": 6,
      "outputs": [
        {
          "output_type": "stream",
          "name": "stdout",
          "text": [
            "A U B = {1, 2, 3, 5}\n"
          ]
        }
      ]
    },
    {
      "cell_type": "code",
      "source": [
        "X ={1, 2, 3, 4, 5}\n",
        "Y ={1, 2, 3}\n",
        "Z ={1, 2, 3}\n",
        "print(X.issuperset(Y))\n",
        "print(Z.issuperset(X))"
      ],
      "metadata": {
        "colab": {
          "base_uri": "https://localhost:8080/"
        },
        "id": "HpQMimeo53pM",
        "outputId": "a2feb82a-e679-4df9-d55b-5fceb90e86ca"
      },
      "execution_count": 7,
      "outputs": [
        {
          "output_type": "stream",
          "name": "stdout",
          "text": [
            "True\n",
            "False\n"
          ]
        }
      ]
    },
    {
      "cell_type": "code",
      "source": [
        "a={1, 2, 3}\n",
        "b={1, 2, 3, 4, 5}\n",
        "print(a.issubset(b))"
      ],
      "metadata": {
        "colab": {
          "base_uri": "https://localhost:8080/"
        },
        "id": "nYmrtkYi5_Vv",
        "outputId": "92cb6879-d3bc-4cfc-a6b1-d9b0f3a61988"
      },
      "execution_count": 8,
      "outputs": [
        {
          "output_type": "stream",
          "name": "stdout",
          "text": [
            "True\n"
          ]
        }
      ]
    },
    {
      "cell_type": "code",
      "source": [
        "A={3,4,5,6}\n",
        "B={7,8,9}\n",
        "print(A.isdisjoint(B))"
      ],
      "metadata": {
        "colab": {
          "base_uri": "https://localhost:8080/"
        },
        "id": "fEdqZ4lc6CEo",
        "outputId": "866efb80-28e2-43dc-f572-2df814df5196"
      },
      "execution_count": 9,
      "outputs": [
        {
          "output_type": "stream",
          "name": "stdout",
          "text": [
            "True\n"
          ]
        }
      ]
    }
  ]
}